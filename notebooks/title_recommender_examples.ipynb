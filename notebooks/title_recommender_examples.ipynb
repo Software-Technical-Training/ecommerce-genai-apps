{
 "cells": [
  {
   "cell_type": "markdown",
   "id": "96e6b633",
   "metadata": {},
   "source": [
    "# Product Title Recommender Examples\n",
    "\n",
    "This notebook demonstrates how to use the Product Title Recommender feature to evaluate product titles and get recommendations for improvement."
   ]
  },
  {
   "cell_type": "markdown",
   "id": "4d38097f",
   "metadata": {},
   "source": [
    "## Setup and Configuration\n",
    "\n",
    "First, let's import the necessary modules and set up our environment."
   ]
  },
  {
   "cell_type": "code",
   "execution_count": 1,
   "id": "46a32aaa",
   "metadata": {},
   "outputs": [
    {
     "name": "stderr",
     "output_type": "stream",
     "text": [
      "20.54s - pydevd: Sending message related to process being replaced timed-out after 5 seconds\n"
     ]
    },
    {
     "name": "stdout",
     "output_type": "stream",
     "text": [
      "Requirement already satisfied: langchain_community in ./stti-venv/lib/python3.9/site-packages (0.3.22)\n",
      "Requirement already satisfied: langchain-core<1.0.0,>=0.3.55 in ./stti-venv/lib/python3.9/site-packages (from langchain_community) (0.3.56)\n",
      "Requirement already satisfied: langchain<1.0.0,>=0.3.24 in ./stti-venv/lib/python3.9/site-packages (from langchain_community) (0.3.24)\n",
      "Requirement already satisfied: SQLAlchemy<3,>=1.4 in ./stti-venv/lib/python3.9/site-packages (from langchain_community) (2.0.40)\n",
      "Requirement already satisfied: requests<3,>=2 in ./stti-venv/lib/python3.9/site-packages (from langchain_community) (2.32.3)\n",
      "Requirement already satisfied: PyYAML>=5.3 in ./stti-venv/lib/python3.9/site-packages (from langchain_community) (6.0.2)\n",
      "Requirement already satisfied: aiohttp<4.0.0,>=3.8.3 in ./stti-venv/lib/python3.9/site-packages (from langchain_community) (3.11.18)\n",
      "Requirement already satisfied: tenacity!=8.4.0,<10,>=8.1.0 in ./stti-venv/lib/python3.9/site-packages (from langchain_community) (9.1.2)\n",
      "Requirement already satisfied: dataclasses-json<0.7,>=0.5.7 in ./stti-venv/lib/python3.9/site-packages (from langchain_community) (0.6.7)\n",
      "Requirement already satisfied: pydantic-settings<3.0.0,>=2.4.0 in ./stti-venv/lib/python3.9/site-packages (from langchain_community) (2.9.1)\n",
      "Requirement already satisfied: langsmith<0.4,>=0.1.125 in ./stti-venv/lib/python3.9/site-packages (from langchain_community) (0.3.37)\n",
      "Requirement already satisfied: httpx-sse<1.0.0,>=0.4.0 in ./stti-venv/lib/python3.9/site-packages (from langchain_community) (0.4.0)\n",
      "Requirement already satisfied: numpy>=1.26.2 in ./stti-venv/lib/python3.9/site-packages (from langchain_community) (2.0.2)\n",
      "Requirement already satisfied: aiohappyeyeballs>=2.3.0 in ./stti-venv/lib/python3.9/site-packages (from aiohttp<4.0.0,>=3.8.3->langchain_community) (2.6.1)\n",
      "Requirement already satisfied: aiosignal>=1.1.2 in ./stti-venv/lib/python3.9/site-packages (from aiohttp<4.0.0,>=3.8.3->langchain_community) (1.3.2)\n",
      "Requirement already satisfied: async-timeout<6.0,>=4.0 in ./stti-venv/lib/python3.9/site-packages (from aiohttp<4.0.0,>=3.8.3->langchain_community) (4.0.3)\n",
      "Requirement already satisfied: attrs>=17.3.0 in ./stti-venv/lib/python3.9/site-packages (from aiohttp<4.0.0,>=3.8.3->langchain_community) (25.3.0)\n",
      "Requirement already satisfied: frozenlist>=1.1.1 in ./stti-venv/lib/python3.9/site-packages (from aiohttp<4.0.0,>=3.8.3->langchain_community) (1.6.0)\n",
      "Requirement already satisfied: multidict<7.0,>=4.5 in ./stti-venv/lib/python3.9/site-packages (from aiohttp<4.0.0,>=3.8.3->langchain_community) (6.4.3)\n",
      "Requirement already satisfied: propcache>=0.2.0 in ./stti-venv/lib/python3.9/site-packages (from aiohttp<4.0.0,>=3.8.3->langchain_community) (0.3.1)\n",
      "Requirement already satisfied: yarl<2.0,>=1.17.0 in ./stti-venv/lib/python3.9/site-packages (from aiohttp<4.0.0,>=3.8.3->langchain_community) (1.20.0)\n",
      "Requirement already satisfied: marshmallow<4.0.0,>=3.18.0 in ./stti-venv/lib/python3.9/site-packages (from dataclasses-json<0.7,>=0.5.7->langchain_community) (3.26.1)\n",
      "Requirement already satisfied: typing-inspect<1,>=0.4.0 in ./stti-venv/lib/python3.9/site-packages (from dataclasses-json<0.7,>=0.5.7->langchain_community) (0.9.0)\n",
      "Requirement already satisfied: langchain-text-splitters<1.0.0,>=0.3.8 in ./stti-venv/lib/python3.9/site-packages (from langchain<1.0.0,>=0.3.24->langchain_community) (0.3.8)\n",
      "Requirement already satisfied: pydantic<3.0.0,>=2.7.4 in ./stti-venv/lib/python3.9/site-packages (from langchain<1.0.0,>=0.3.24->langchain_community) (2.11.3)\n",
      "Requirement already satisfied: jsonpatch<2.0,>=1.33 in ./stti-venv/lib/python3.9/site-packages (from langchain-core<1.0.0,>=0.3.55->langchain_community) (1.33)\n",
      "Requirement already satisfied: packaging<25,>=23.2 in ./stti-venv/lib/python3.9/site-packages (from langchain-core<1.0.0,>=0.3.55->langchain_community) (24.2)\n",
      "Requirement already satisfied: typing-extensions>=4.7 in ./stti-venv/lib/python3.9/site-packages (from langchain-core<1.0.0,>=0.3.55->langchain_community) (4.13.2)\n",
      "Requirement already satisfied: jsonpointer>=1.9 in ./stti-venv/lib/python3.9/site-packages (from jsonpatch<2.0,>=1.33->langchain-core<1.0.0,>=0.3.55->langchain_community) (3.0.0)\n",
      "Requirement already satisfied: httpx<1,>=0.23.0 in ./stti-venv/lib/python3.9/site-packages (from langsmith<0.4,>=0.1.125->langchain_community) (0.28.1)\n",
      "Requirement already satisfied: orjson<4.0.0,>=3.9.14 in ./stti-venv/lib/python3.9/site-packages (from langsmith<0.4,>=0.1.125->langchain_community) (3.10.16)\n",
      "Requirement already satisfied: requests-toolbelt<2.0.0,>=1.0.0 in ./stti-venv/lib/python3.9/site-packages (from langsmith<0.4,>=0.1.125->langchain_community) (1.0.0)\n",
      "Requirement already satisfied: zstandard<0.24.0,>=0.23.0 in ./stti-venv/lib/python3.9/site-packages (from langsmith<0.4,>=0.1.125->langchain_community) (0.23.0)\n",
      "Requirement already satisfied: anyio in ./stti-venv/lib/python3.9/site-packages (from httpx<1,>=0.23.0->langsmith<0.4,>=0.1.125->langchain_community) (4.9.0)\n",
      "Requirement already satisfied: certifi in ./stti-venv/lib/python3.9/site-packages (from httpx<1,>=0.23.0->langsmith<0.4,>=0.1.125->langchain_community) (2025.4.26)\n",
      "Requirement already satisfied: httpcore==1.* in ./stti-venv/lib/python3.9/site-packages (from httpx<1,>=0.23.0->langsmith<0.4,>=0.1.125->langchain_community) (1.0.9)\n",
      "Requirement already satisfied: idna in ./stti-venv/lib/python3.9/site-packages (from httpx<1,>=0.23.0->langsmith<0.4,>=0.1.125->langchain_community) (3.10)\n",
      "Requirement already satisfied: h11>=0.16 in ./stti-venv/lib/python3.9/site-packages (from httpcore==1.*->httpx<1,>=0.23.0->langsmith<0.4,>=0.1.125->langchain_community) (0.16.0)\n",
      "Requirement already satisfied: annotated-types>=0.6.0 in ./stti-venv/lib/python3.9/site-packages (from pydantic<3.0.0,>=2.7.4->langchain<1.0.0,>=0.3.24->langchain_community) (0.7.0)\n",
      "Requirement already satisfied: pydantic-core==2.33.1 in ./stti-venv/lib/python3.9/site-packages (from pydantic<3.0.0,>=2.7.4->langchain<1.0.0,>=0.3.24->langchain_community) (2.33.1)\n",
      "Requirement already satisfied: typing-inspection>=0.4.0 in ./stti-venv/lib/python3.9/site-packages (from pydantic<3.0.0,>=2.7.4->langchain<1.0.0,>=0.3.24->langchain_community) (0.4.0)\n",
      "Requirement already satisfied: python-dotenv>=0.21.0 in ./stti-venv/lib/python3.9/site-packages (from pydantic-settings<3.0.0,>=2.4.0->langchain_community) (1.1.0)\n",
      "Requirement already satisfied: charset-normalizer<4,>=2 in ./stti-venv/lib/python3.9/site-packages (from requests<3,>=2->langchain_community) (3.4.1)\n",
      "Requirement already satisfied: urllib3<3,>=1.21.1 in ./stti-venv/lib/python3.9/site-packages (from requests<3,>=2->langchain_community) (2.4.0)\n",
      "Requirement already satisfied: mypy-extensions>=0.3.0 in ./stti-venv/lib/python3.9/site-packages (from typing-inspect<1,>=0.4.0->dataclasses-json<0.7,>=0.5.7->langchain_community) (1.1.0)\n",
      "Requirement already satisfied: exceptiongroup>=1.0.2 in ./stti-venv/lib/python3.9/site-packages (from anyio->httpx<1,>=0.23.0->langsmith<0.4,>=0.1.125->langchain_community) (1.2.2)\n",
      "Requirement already satisfied: sniffio>=1.1 in ./stti-venv/lib/python3.9/site-packages (from anyio->httpx<1,>=0.23.0->langsmith<0.4,>=0.1.125->langchain_community) (1.3.1)\n",
      "Requirement already satisfied: annotated-types>=0.6.0 in ./stti-venv/lib/python3.9/site-packages (from pydantic<3.0.0,>=2.7.4->langchain<1.0.0,>=0.3.24->langchain_community) (0.7.0)\n",
      "Requirement already satisfied: pydantic-core==2.33.1 in ./stti-venv/lib/python3.9/site-packages (from pydantic<3.0.0,>=2.7.4->langchain<1.0.0,>=0.3.24->langchain_community) (2.33.1)\n",
      "Requirement already satisfied: typing-inspection>=0.4.0 in ./stti-venv/lib/python3.9/site-packages (from pydantic<3.0.0,>=2.7.4->langchain<1.0.0,>=0.3.24->langchain_community) (0.4.0)\n",
      "Requirement already satisfied: python-dotenv>=0.21.0 in ./stti-venv/lib/python3.9/site-packages (from pydantic-settings<3.0.0,>=2.4.0->langchain_community) (1.1.0)\n",
      "Requirement already satisfied: charset-normalizer<4,>=2 in ./stti-venv/lib/python3.9/site-packages (from requests<3,>=2->langchain_community) (3.4.1)\n",
      "Requirement already satisfied: urllib3<3,>=1.21.1 in ./stti-venv/lib/python3.9/site-packages (from requests<3,>=2->langchain_community) (2.4.0)\n",
      "Requirement already satisfied: mypy-extensions>=0.3.0 in ./stti-venv/lib/python3.9/site-packages (from typing-inspect<1,>=0.4.0->dataclasses-json<0.7,>=0.5.7->langchain_community) (1.1.0)\n",
      "Requirement already satisfied: exceptiongroup>=1.0.2 in ./stti-venv/lib/python3.9/site-packages (from anyio->httpx<1,>=0.23.0->langsmith<0.4,>=0.1.125->langchain_community) (1.2.2)\n",
      "Requirement already satisfied: sniffio>=1.1 in ./stti-venv/lib/python3.9/site-packages (from anyio->httpx<1,>=0.23.0->langsmith<0.4,>=0.1.125->langchain_community) (1.3.1)\n",
      "Note: you may need to restart the kernel to use updated packages.\n",
      "Note: you may need to restart the kernel to use updated packages.\n"
     ]
    },
    {
     "name": "stderr",
     "output_type": "stream",
     "text": [
      "/Users/veranky/Documents/Personal/STTI/python_projects/ecommerce-genai-apps/stti-venv/lib/python3.9/site-packages/urllib3/__init__.py:35: NotOpenSSLWarning: urllib3 v2 only supports OpenSSL 1.1.1+, currently the 'ssl' module is compiled with 'LibreSSL 2.8.3'. See: https://github.com/urllib3/urllib3/issues/3020\n",
      "  warnings.warn(\n"
     ]
    },
    {
     "name": "stdout",
     "output_type": "stream",
     "text": [
      "✅ OpenAI API key found!\n"
     ]
    }
   ],
   "source": [
    "# Import required libraries\n",
    "%pip install langchain_community\n",
    "import os\n",
    "import sys\n",
    "import json\n",
    "from dotenv import load_dotenv\n",
    "import pandas as pd\n",
    "\n",
    "# Add the parent directory to the path to import from src\n",
    "sys.path.append(os.path.abspath('..'))\n",
    "\n",
    "# Import project modules\n",
    "from src.features.product_title_recommender.title_recommender import TitleRecommender\n",
    "from src.models.llm_integrations import LLMFactory\n",
    "from src.common.utils import load_json\n",
    "\n",
    "# Load environment variables from .env file\n",
    "load_dotenv()\n",
    "\n",
    "# Check if OpenAI API key is set\n",
    "if not os.getenv(\"OPENAI_API_KEY\"):\n",
    "    print(\"⚠️ Warning: OPENAI_API_KEY is not set in your .env file.\")\n",
    "    print(\"Please set this up before running the examples.\")\n",
    "else:\n",
    "    print(\"✅ OpenAI API key found!\")"
   ]
  },
  {
   "cell_type": "markdown",
   "id": "f17bb495",
   "metadata": {},
   "source": [
    "## Load Sample Data\n",
    "\n",
    "Now let's load the sample product data from the JSON file."
   ]
  },
  {
   "cell_type": "code",
   "execution_count": 6,
   "id": "74ae761e",
   "metadata": {},
   "outputs": [],
   "source": [
    "# Define path to sample data\n",
    "sample_data_path = '/Users/veranky/Documents/Personal/STTI/python_projects/ecommerce-genai-apps/data/sample_products.json'\n",
    "\n",
    "# Load sample products with error handling\n",
    "data = load_json(sample_data_path)\n",
    "if data is None:\n",
    "\tprint(f\"⚠️ Failed to load data from {sample_data_path}. Please check if the file exists and contains valid JSON.\")\n",
    "\tproducts = []\n",
    "else:\n",
    "\tproducts = data.get('products', [])\n",
    "\n",
    "# Display sample products as a DataFrame if products are loaded\n",
    "if products:\n",
    "\tdf_products = pd.DataFrame(products)\n",
    "\tdf_products\n",
    "else:\n",
    "\tprint(\"⚠️ No products found in the loaded data.\")"
   ]
  },
  {
   "cell_type": "markdown",
   "id": "21cf38b6",
   "metadata": {},
   "source": [
    "## Create Title Recommender Instance\n",
    "\n",
    "Let's create an instance of the TitleRecommender class. We'll use OpenAI's GPT-4 as the default model, but you can change this to another model if you prefer."
   ]
  },
  {
   "cell_type": "code",
   "execution_count": 7,
   "id": "2708a22e",
   "metadata": {},
   "outputs": [
    {
     "name": "stderr",
     "output_type": "stream",
     "text": [
      "/Users/veranky/Documents/Personal/STTI/python_projects/ecommerce-genai-apps/src/models/llm_integrations.py:30: LangChainDeprecationWarning: The class `ChatOpenAI` was deprecated in LangChain 0.0.10 and will be removed in 1.0. An updated version of the class exists in the :class:`~langchain-openai package and should be used instead. To use it run `pip install -U :class:`~langchain-openai` and import as `from :class:`~langchain_openai import ChatOpenAI``.\n",
      "  return ChatOpenAI(\n",
      "/Users/veranky/Documents/Personal/STTI/python_projects/ecommerce-genai-apps/src/features/product_title_recommender/title_analyzer.py:50: LangChainDeprecationWarning: The class `LLMChain` was deprecated in LangChain 0.1.17 and will be removed in 1.0. Use :meth:`~RunnableSequence, e.g., `prompt | llm`` instead.\n",
      "  self.evaluation_chain = LLMChain(\n",
      "/Users/veranky/Documents/Personal/STTI/python_projects/ecommerce-genai-apps/src/features/product_title_recommender/title_analyzer.py:50: LangChainDeprecationWarning: The class `LLMChain` was deprecated in LangChain 0.1.17 and will be removed in 1.0. Use :meth:`~RunnableSequence, e.g., `prompt | llm`` instead.\n",
      "  self.evaluation_chain = LLMChain(\n"
     ]
    }
   ],
   "source": [
    "# Create title recommender with OpenAI GPT-4\n",
    "recommender = TitleRecommender(model_type='openai', model_name='gpt-4')\n",
    "\n",
    "# If you want to use a different OpenAI model, you can uncomment the line below\n",
    "# recommender = TitleRecommender(model_type='openai', model_name='gpt-3.5-turbo')"
   ]
  },
  {
   "cell_type": "markdown",
   "id": "76c5f66b",
   "metadata": {},
   "source": [
    "## Evaluate a Single Product Title\n",
    "\n",
    "Let's start by evaluating a single product title from our sample data."
   ]
  },
  {
   "cell_type": "code",
   "execution_count": 8,
   "id": "a00a9198",
   "metadata": {},
   "outputs": [
    {
     "name": "stdout",
     "output_type": "stream",
     "text": [
      "Evaluating title: 'Lacoste Elite Active 224 2 SMA'\n"
     ]
    },
    {
     "name": "stderr",
     "output_type": "stream",
     "text": [
      "/Users/veranky/Documents/Personal/STTI/python_projects/ecommerce-genai-apps/src/features/product_title_recommender/title_analyzer.py:66: LangChainDeprecationWarning: The method `Chain.run` was deprecated in langchain 0.1.0 and will be removed in 1.0. Use :meth:`~invoke` instead.\n",
      "  result = self.evaluation_chain.run(title=title)\n"
     ]
    },
    {
     "name": "stdout",
     "output_type": "stream",
     "text": [
      "\n",
      "Rating: Needs Improvement\n",
      "Reasoning: While the product title includes the brand and model, it lacks important information that would help potential buyers understand what the product is. The title does not specify the type of product, its main features, or its intended use.\n",
      "\n",
      "Suggested attributes to add:\n",
      "- Product type\n",
      "- Color\n",
      "- Size\n",
      "- Material\n",
      "\n",
      "Improved title: 'Lacoste Elite Active 224 2 SMA Men's Black Leather Sneakers, Size 10'\n",
      "\n",
      "Complete recommendation:\n",
      "{\n",
      "  \"original_title\": \"Lacoste Elite Active 224 2 SMA\",\n",
      "  \"evaluation\": {\n",
      "    \"rating\": \"Needs Improvement\",\n",
      "    \"reasoning\": \"While the product title includes the brand and model, it lacks important information that would help potential buyers understand what the product is. The title does not specify the type of product, its main features, or its intended use.\",\n",
      "    \"suggested_attributes\": [\n",
      "      \"Product type\",\n",
      "      \"Color\",\n",
      "      \"Size\",\n",
      "      \"Material\"\n",
      "    ],\n",
      "    \"improved_title\": \"Lacoste Elite Active 224 2 SMA Men's Black Leather Sneakers, Size 10\"\n",
      "  },\n",
      "  \"needs_improvement\": true,\n",
      "  \"suggested_attributes\": [\n",
      "    \"Product type\",\n",
      "    \"Color\",\n",
      "    \"Size\",\n",
      "    \"Material\"\n",
      "  ],\n",
      "  \"improved_title\": \"Lacoste Elite Active 224 2 SMA Men's Black Leather Sneakers, Size 10\"\n",
      "}\n"
     ]
    }
   ],
   "source": [
    "# Select the first product title\n",
    "sample_title = products[0]['title']\n",
    "print(f\"Evaluating title: '{sample_title}'\")\n",
    "\n",
    "# Get recommendation for the selected title\n",
    "recommendation = recommender.get_recommendation(sample_title)\n",
    "\n",
    "# Display the recommendation\n",
    "print(f\"\\nRating: {recommendation['evaluation']['rating']}\")\n",
    "print(f\"Reasoning: {recommendation['evaluation']['reasoning']}\")\n",
    "print(f\"\\nSuggested attributes to add:\")\n",
    "for attr in recommendation['suggested_attributes']:\n",
    "    print(f\"- {attr}\")\n",
    "\n",
    "if recommendation['improved_title']:\n",
    "    print(f\"\\nImproved title: '{recommendation['improved_title']}'\")\n",
    "\n",
    "# Show the complete recommendation as JSON\n",
    "print(\"\\nComplete recommendation:\")\n",
    "print(json.dumps(recommendation, indent=2))"
   ]
  },
  {
   "cell_type": "markdown",
   "id": "7468b58a",
   "metadata": {},
   "source": [
    "## Batch Evaluation of All Product Titles\n",
    "\n",
    "Now let's evaluate all product titles in our sample data."
   ]
  },
  {
   "cell_type": "code",
   "execution_count": 9,
   "id": "f4f8f6b2",
   "metadata": {},
   "outputs": [
    {
     "name": "stdout",
     "output_type": "stream",
     "text": [
      "Evaluating all product titles...\n"
     ]
    },
    {
     "data": {
      "text/html": [
       "<div>\n",
       "<style scoped>\n",
       "    .dataframe tbody tr th:only-of-type {\n",
       "        vertical-align: middle;\n",
       "    }\n",
       "\n",
       "    .dataframe tbody tr th {\n",
       "        vertical-align: top;\n",
       "    }\n",
       "\n",
       "    .dataframe thead th {\n",
       "        text-align: right;\n",
       "    }\n",
       "</style>\n",
       "<table border=\"1\" class=\"dataframe\">\n",
       "  <thead>\n",
       "    <tr style=\"text-align: right;\">\n",
       "      <th></th>\n",
       "      <th>product_id</th>\n",
       "      <th>original_title</th>\n",
       "      <th>rating</th>\n",
       "      <th>needs_improvement</th>\n",
       "      <th>improved_title</th>\n",
       "    </tr>\n",
       "  </thead>\n",
       "  <tbody>\n",
       "    <tr>\n",
       "      <th>0</th>\n",
       "      <td>P001</td>\n",
       "      <td>Lacoste Elite Active 224 2 SMA</td>\n",
       "      <td>Needs Improvement</td>\n",
       "      <td>True</td>\n",
       "      <td>Lacoste Elite Active 224 2 SMA Men's White Lea...</td>\n",
       "    </tr>\n",
       "    <tr>\n",
       "      <th>1</th>\n",
       "      <td>P002</td>\n",
       "      <td>6 ' Fiberglass Step Ladder Folding</td>\n",
       "      <td>Needs Improvement</td>\n",
       "      <td>True</td>\n",
       "      <td>Werner 6' Fiberglass Step Ladder, 300 lbs Weig...</td>\n",
       "    </tr>\n",
       "    <tr>\n",
       "      <th>2</th>\n",
       "      <td>P003</td>\n",
       "      <td>BRAND NEW GUCCI Ophidia Black Suede Leather Do...</td>\n",
       "      <td>Good</td>\n",
       "      <td>False</td>\n",
       "      <td>None</td>\n",
       "    </tr>\n",
       "    <tr>\n",
       "      <th>3</th>\n",
       "      <td>P004</td>\n",
       "      <td>Bose QuietComfort Ultra Noise Cancelling Headp...</td>\n",
       "      <td>Good</td>\n",
       "      <td>False</td>\n",
       "      <td>None</td>\n",
       "    </tr>\n",
       "    <tr>\n",
       "      <th>4</th>\n",
       "      <td>P005</td>\n",
       "      <td>NWT Loft Red Blouse Floral Lace Trim Mixed Med...</td>\n",
       "      <td>Needs Improvement</td>\n",
       "      <td>True</td>\n",
       "      <td>NWT Loft Small Red Floral Lace Trim Tunic Top ...</td>\n",
       "    </tr>\n",
       "  </tbody>\n",
       "</table>\n",
       "</div>"
      ],
      "text/plain": [
       "  product_id                                     original_title  \\\n",
       "0       P001                     Lacoste Elite Active 224 2 SMA   \n",
       "1       P002                 6 ' Fiberglass Step Ladder Folding   \n",
       "2       P003  BRAND NEW GUCCI Ophidia Black Suede Leather Do...   \n",
       "3       P004  Bose QuietComfort Ultra Noise Cancelling Headp...   \n",
       "4       P005  NWT Loft Red Blouse Floral Lace Trim Mixed Med...   \n",
       "\n",
       "              rating  needs_improvement  \\\n",
       "0  Needs Improvement               True   \n",
       "1  Needs Improvement               True   \n",
       "2               Good              False   \n",
       "3               Good              False   \n",
       "4  Needs Improvement               True   \n",
       "\n",
       "                                      improved_title  \n",
       "0  Lacoste Elite Active 224 2 SMA Men's White Lea...  \n",
       "1  Werner 6' Fiberglass Step Ladder, 300 lbs Weig...  \n",
       "2                                               None  \n",
       "3                                               None  \n",
       "4  NWT Loft Small Red Floral Lace Trim Tunic Top ...  "
      ]
     },
     "execution_count": 9,
     "metadata": {},
     "output_type": "execute_result"
    }
   ],
   "source": [
    "# Get batch recommendations\n",
    "print(\"Evaluating all product titles...\")\n",
    "recommendations = recommender.get_batch_recommendations(products)\n",
    "\n",
    "# Create a DataFrame for better visualization\n",
    "recommendations_summary = []\n",
    "\n",
    "for rec in recommendations:\n",
    "    summary = {\n",
    "        'product_id': rec['product_id'],\n",
    "        'original_title': rec['original_title'],\n",
    "        'rating': rec['evaluation']['rating'],\n",
    "        'needs_improvement': rec['needs_improvement'],\n",
    "        'improved_title': rec['improved_title']\n",
    "    }\n",
    "    recommendations_summary.append(summary)\n",
    "\n",
    "df_recommendations = pd.DataFrame(recommendations_summary)\n",
    "df_recommendations"
   ]
  },
  {
   "cell_type": "markdown",
   "id": "102544af",
   "metadata": {},
   "source": [
    "## Detailed Analysis of Each Recommendation\n",
    "\n",
    "Let's examine each recommendation in more detail."
   ]
  },
  {
   "cell_type": "code",
   "execution_count": 10,
   "id": "ed2eb35d",
   "metadata": {},
   "outputs": [
    {
     "name": "stdout",
     "output_type": "stream",
     "text": [
      "\n",
      "================================================================================\n",
      "Product 1: P001\n",
      "================================================================================\n",
      "Original Title: 'Lacoste Elite Active 224 2 SMA'\n",
      "\n",
      "Rating: Needs Improvement\n",
      "\n",
      "Reasoning:\n",
      "The product title lacks important information that would help potential buyers understand what the product is. It is unclear whether the product is a shoe, a shirt, or some other item. The title also does not include any details about the product's size, color, or material.\n",
      "\n",
      "Suggested attributes to add:\n",
      "- Product type\n",
      "- Color\n",
      "- Size\n",
      "- Material\n",
      "\n",
      "Improved title: 'Lacoste Elite Active 224 2 SMA Men's White Leather Sneakers, Size 10'\n",
      "\n",
      "================================================================================\n",
      "Product 2: P002\n",
      "================================================================================\n",
      "Original Title: '6 ' Fiberglass Step Ladder Folding'\n",
      "\n",
      "Rating: Needs Improvement\n",
      "\n",
      "Reasoning:\n",
      "The product title is too short and lacks important details that could attract potential buyers. It does not provide information about the brand, the weight capacity, the number of steps, or any special features of the ladder.\n",
      "\n",
      "Suggested attributes to add:\n",
      "- Brand\n",
      "- Weight Capacity\n",
      "- Number of Steps\n",
      "- Special Features\n",
      "\n",
      "Improved title: 'Werner 6' Fiberglass Step Ladder, 300 lbs Weight Capacity, Folding, Non-Slip Treads'\n",
      "\n",
      "================================================================================\n",
      "Product 3: P003\n",
      "================================================================================\n",
      "Original Title: 'BRAND NEW GUCCI Ophidia Black Suede Leather Dome Cross Body Shoulder Bag Purse'\n",
      "\n",
      "Rating: Good\n",
      "\n",
      "Reasoning:\n",
      "The product title is clear, concise, and includes the brand name, product type, color, and material. It also specifies that the product is brand new, which is a key selling point for many buyers.\n",
      "\n",
      "Suggested attributes to add:\n",
      "- Size\n",
      "- Closure Type\n",
      "- Number of Compartments\n",
      "\n",
      "================================================================================\n",
      "Product 4: P004\n",
      "================================================================================\n",
      "Original Title: 'Bose QuietComfort Ultra Noise Cancelling Headphones, Certified Refurbished'\n",
      "\n",
      "Rating: Good\n",
      "\n",
      "Reasoning:\n",
      "The product title is clear, concise, and includes the brand name, product type, and a key feature (noise cancelling). It also mentions that the product is certified refurbished, which is important information for potential buyers.\n",
      "\n",
      "Suggested attributes to add:\n",
      "- Color\n",
      "- Model Number\n",
      "- Connectivity Type\n",
      "\n",
      "================================================================================\n",
      "Product 5: P005\n",
      "================================================================================\n",
      "Original Title: 'NWT Loft Red Blouse Floral Lace Trim Mixed Media Small Tunic Top Twee Spring'\n",
      "\n",
      "Rating: Needs Improvement\n",
      "\n",
      "Reasoning:\n",
      "The title is too long and contains too many descriptors which can be confusing for the buyer. It also includes an unclear term 'Twee' which may not be understood by all potential buyers. The size of the blouse is also not clearly stated.\n",
      "\n",
      "Suggested attributes to add:\n",
      "- Material\n",
      "- Brand\n",
      "- Size\n",
      "\n",
      "Improved title: 'NWT Loft Small Red Floral Lace Trim Tunic Top Blouse for Spring'\n"
     ]
    }
   ],
   "source": [
    "# Display detailed analysis for each product title\n",
    "for i, rec in enumerate(recommendations):\n",
    "    product_id = rec['product_id']\n",
    "    title = rec['original_title']\n",
    "    rating = rec['evaluation']['rating']\n",
    "    reasoning = rec['evaluation']['reasoning']\n",
    "    \n",
    "    print(f\"\\n{'='*80}\")\n",
    "    print(f\"Product {i+1}: {product_id}\")\n",
    "    print(f\"{'='*80}\")\n",
    "    print(f\"Original Title: '{title}'\")\n",
    "    print(f\"\\nRating: {rating}\")\n",
    "    print(f\"\\nReasoning:\\n{reasoning}\")\n",
    "    \n",
    "    print(f\"\\nSuggested attributes to add:\")\n",
    "    for attr in rec['suggested_attributes']:\n",
    "        print(f\"- {attr}\")\n",
    "    \n",
    "    if rec['improved_title']:\n",
    "        print(f\"\\nImproved title: '{rec['improved_title']}'\")"
   ]
  },
  {
   "cell_type": "markdown",
   "id": "333007cd",
   "metadata": {},
   "source": [
    "## Comparing Original vs. Improved Titles\n",
    "\n",
    "Let's create a clear side-by-side comparison of original and improved titles."
   ]
  },
  {
   "cell_type": "code",
   "execution_count": 11,
   "id": "cfb4c2c1",
   "metadata": {},
   "outputs": [
    {
     "name": "stdout",
     "output_type": "stream",
     "text": [
      "Found 3 products with titles that need improvement:\n"
     ]
    },
    {
     "data": {
      "text/html": [
       "<div>\n",
       "<style scoped>\n",
       "    .dataframe tbody tr th:only-of-type {\n",
       "        vertical-align: middle;\n",
       "    }\n",
       "\n",
       "    .dataframe tbody tr th {\n",
       "        vertical-align: top;\n",
       "    }\n",
       "\n",
       "    .dataframe thead th {\n",
       "        text-align: right;\n",
       "    }\n",
       "</style>\n",
       "<table border=\"1\" class=\"dataframe\">\n",
       "  <thead>\n",
       "    <tr style=\"text-align: right;\">\n",
       "      <th></th>\n",
       "      <th>product_id</th>\n",
       "      <th>original_title</th>\n",
       "      <th>improved_title</th>\n",
       "    </tr>\n",
       "  </thead>\n",
       "  <tbody>\n",
       "    <tr>\n",
       "      <th>0</th>\n",
       "      <td>P001</td>\n",
       "      <td>Lacoste Elite Active 224 2 SMA</td>\n",
       "      <td>Lacoste Elite Active 224 2 SMA Men's White Lea...</td>\n",
       "    </tr>\n",
       "    <tr>\n",
       "      <th>1</th>\n",
       "      <td>P002</td>\n",
       "      <td>6 ' Fiberglass Step Ladder Folding</td>\n",
       "      <td>Werner 6' Fiberglass Step Ladder, 300 lbs Weig...</td>\n",
       "    </tr>\n",
       "    <tr>\n",
       "      <th>2</th>\n",
       "      <td>P005</td>\n",
       "      <td>NWT Loft Red Blouse Floral Lace Trim Mixed Med...</td>\n",
       "      <td>NWT Loft Small Red Floral Lace Trim Tunic Top ...</td>\n",
       "    </tr>\n",
       "  </tbody>\n",
       "</table>\n",
       "</div>"
      ],
      "text/plain": [
       "  product_id                                     original_title  \\\n",
       "0       P001                     Lacoste Elite Active 224 2 SMA   \n",
       "1       P002                 6 ' Fiberglass Step Ladder Folding   \n",
       "2       P005  NWT Loft Red Blouse Floral Lace Trim Mixed Med...   \n",
       "\n",
       "                                      improved_title  \n",
       "0  Lacoste Elite Active 224 2 SMA Men's White Lea...  \n",
       "1  Werner 6' Fiberglass Step Ladder, 300 lbs Weig...  \n",
       "2  NWT Loft Small Red Floral Lace Trim Tunic Top ...  "
      ]
     },
     "metadata": {},
     "output_type": "display_data"
    }
   ],
   "source": [
    "# Create a DataFrame with original and improved titles\n",
    "comparison_data = []\n",
    "\n",
    "for rec in recommendations:\n",
    "    if rec['needs_improvement']:\n",
    "        item = {\n",
    "            'product_id': rec['product_id'],\n",
    "            'original_title': rec['original_title'],\n",
    "            'improved_title': rec['improved_title']\n",
    "        }\n",
    "        comparison_data.append(item)\n",
    "\n",
    "df_comparison = pd.DataFrame(comparison_data)\n",
    "\n",
    "# Display the comparison if there are any titles that need improvement\n",
    "if len(df_comparison) > 0:\n",
    "    print(f\"Found {len(df_comparison)} products with titles that need improvement:\")\n",
    "    display(df_comparison)\n",
    "else:\n",
    "    print(\"All product titles are already good!\")"
   ]
  },
  {
   "cell_type": "markdown",
   "id": "5abcb382",
   "metadata": {},
   "source": [
    "## Save Recommendations to a File\n",
    "\n",
    "Let's save the recommendations to a JSON file for later use."
   ]
  },
  {
   "cell_type": "code",
   "execution_count": 13,
   "id": "75377f3b",
   "metadata": {},
   "outputs": [
    {
     "name": "stdout",
     "output_type": "stream",
     "text": [
      "✅ Recommendations saved to /Users/veranky/Documents/Personal/STTI/python_projects/ecommerce-genai-apps/data/title_recommendations_output.json\n"
     ]
    }
   ],
   "source": [
    "# Save recommendations to a file\n",
    "output_file = '/Users/veranky/Documents/Personal/STTI/python_projects/ecommerce-genai-apps/data/title_recommendations_output.json'\n",
    "\n",
    "# Save the recommendations\n",
    "success = recommender.save_recommendations(recommendations, output_file)\n",
    "\n",
    "if success:\n",
    "    print(f\"✅ Recommendations saved to {output_file}\")\n",
    "else:\n",
    "    print(f\"❌ Failed to save recommendations to {output_file}\")"
   ]
  },
  {
   "cell_type": "markdown",
   "id": "a3e99413",
   "metadata": {},
   "source": [
    "## Analysis of Title Quality\n",
    "\n",
    "Let's analyze the overall quality of our product titles."
   ]
  },
  {
   "cell_type": "code",
   "execution_count": 15,
   "id": "233f3c39",
   "metadata": {},
   "outputs": [
    {
     "name": "stdout",
     "output_type": "stream",
     "text": [
      "Total product titles analyzed: 5\n",
      "Titles with 'Good' rating: 2 (40.0%)\n",
      "Titles needing improvement: 3 (60.0%)\n"
     ]
    },
    {
     "name": "stderr",
     "output_type": "stream",
     "text": [
      "509.57s - pydevd: Sending message related to process being replaced timed-out after 5 seconds\n"
     ]
    },
    {
     "name": "stdout",
     "output_type": "stream",
     "text": [
      "Collecting matplotlib\n",
      "  Downloading matplotlib-3.9.4-cp39-cp39-macosx_11_0_arm64.whl.metadata (11 kB)\n",
      "  Downloading matplotlib-3.9.4-cp39-cp39-macosx_11_0_arm64.whl.metadata (11 kB)\n",
      "Collecting contourpy>=1.0.1 (from matplotlib)\n",
      "Collecting contourpy>=1.0.1 (from matplotlib)\n",
      "  Downloading contourpy-1.3.0-cp39-cp39-macosx_11_0_arm64.whl.metadata (5.4 kB)\n",
      "  Downloading contourpy-1.3.0-cp39-cp39-macosx_11_0_arm64.whl.metadata (5.4 kB)\n",
      "Collecting cycler>=0.10 (from matplotlib)\n",
      "Collecting cycler>=0.10 (from matplotlib)\n",
      "  Downloading cycler-0.12.1-py3-none-any.whl.metadata (3.8 kB)\n",
      "  Downloading cycler-0.12.1-py3-none-any.whl.metadata (3.8 kB)\n",
      "Collecting fonttools>=4.22.0 (from matplotlib)\n",
      "Collecting fonttools>=4.22.0 (from matplotlib)\n",
      "  Downloading fonttools-4.57.0-cp39-cp39-macosx_10_9_universal2.whl.metadata (102 kB)\n",
      "  Downloading fonttools-4.57.0-cp39-cp39-macosx_10_9_universal2.whl.metadata (102 kB)\n",
      "Collecting kiwisolver>=1.3.1 (from matplotlib)\n",
      "Collecting kiwisolver>=1.3.1 (from matplotlib)\n",
      "  Downloading kiwisolver-1.4.7-cp39-cp39-macosx_11_0_arm64.whl.metadata (6.3 kB)\n",
      "Requirement already satisfied: numpy>=1.23 in ./stti-venv/lib/python3.9/site-packages (from matplotlib) (2.0.2)\n",
      "Requirement already satisfied: packaging>=20.0 in ./stti-venv/lib/python3.9/site-packages (from matplotlib) (24.2)\n",
      "Requirement already satisfied: pillow>=8 in ./stti-venv/lib/python3.9/site-packages (from matplotlib) (11.2.1)\n",
      "  Downloading kiwisolver-1.4.7-cp39-cp39-macosx_11_0_arm64.whl.metadata (6.3 kB)\n",
      "Requirement already satisfied: numpy>=1.23 in ./stti-venv/lib/python3.9/site-packages (from matplotlib) (2.0.2)\n",
      "Requirement already satisfied: packaging>=20.0 in ./stti-venv/lib/python3.9/site-packages (from matplotlib) (24.2)\n",
      "Requirement already satisfied: pillow>=8 in ./stti-venv/lib/python3.9/site-packages (from matplotlib) (11.2.1)\n",
      "Collecting pyparsing>=2.3.1 (from matplotlib)\n",
      "Collecting pyparsing>=2.3.1 (from matplotlib)\n",
      "  Downloading pyparsing-3.2.3-py3-none-any.whl.metadata (5.0 kB)\n",
      "Requirement already satisfied: python-dateutil>=2.7 in ./stti-venv/lib/python3.9/site-packages (from matplotlib) (2.9.0.post0)\n",
      "  Downloading pyparsing-3.2.3-py3-none-any.whl.metadata (5.0 kB)\n",
      "Requirement already satisfied: python-dateutil>=2.7 in ./stti-venv/lib/python3.9/site-packages (from matplotlib) (2.9.0.post0)\n",
      "Collecting importlib-resources>=3.2.0 (from matplotlib)\n",
      "Collecting importlib-resources>=3.2.0 (from matplotlib)\n",
      "  Downloading importlib_resources-6.5.2-py3-none-any.whl.metadata (3.9 kB)\n",
      "Requirement already satisfied: zipp>=3.1.0 in ./stti-venv/lib/python3.9/site-packages (from importlib-resources>=3.2.0->matplotlib) (3.21.0)\n",
      "Requirement already satisfied: six>=1.5 in ./stti-venv/lib/python3.9/site-packages (from python-dateutil>=2.7->matplotlib) (1.17.0)\n",
      "  Downloading importlib_resources-6.5.2-py3-none-any.whl.metadata (3.9 kB)\n",
      "Requirement already satisfied: zipp>=3.1.0 in ./stti-venv/lib/python3.9/site-packages (from importlib-resources>=3.2.0->matplotlib) (3.21.0)\n",
      "Requirement already satisfied: six>=1.5 in ./stti-venv/lib/python3.9/site-packages (from python-dateutil>=2.7->matplotlib) (1.17.0)\n",
      "Downloading matplotlib-3.9.4-cp39-cp39-macosx_11_0_arm64.whl (7.8 MB)\n",
      "\u001b[?25l   \u001b[90m━━━━━━━━━━━━━━━━━━━━━━━━━━━━━━━━━━━━━━━━\u001b[0m \u001b[32m0.0/7.8 MB\u001b[0m \u001b[31m?\u001b[0m eta \u001b[36m-:--:--\u001b[0mDownloading matplotlib-3.9.4-cp39-cp39-macosx_11_0_arm64.whl (7.8 MB)\n",
      "\u001b[2K   \u001b[90m━━━━━━━━━━━━━━━━━━━━━━━━━━━━━━━━━━━━━━━━\u001b[0m \u001b[32m7.8/7.8 MB\u001b[0m \u001b[31m6.0 MB/s\u001b[0m eta \u001b[36m0:00:00\u001b[0ma \u001b[36m0:00:01\u001b[0m\n",
      "\u001b[2K   \u001b[90m━━━━━━━━━━━━━━━━━━━━━━━━━━━━━━━━━━━━━━━━\u001b[0m \u001b[32m7.8/7.8 MB\u001b[0m \u001b[31m6.0 MB/s\u001b[0m eta \u001b[36m0:00:00\u001b[0m\n",
      "\u001b[?25hDownloading contourpy-1.3.0-cp39-cp39-macosx_11_0_arm64.whl (249 kB)\n",
      "Downloading contourpy-1.3.0-cp39-cp39-macosx_11_0_arm64.whl (249 kB)\n",
      "Downloading cycler-0.12.1-py3-none-any.whl (8.3 kB)\n",
      "Downloading cycler-0.12.1-py3-none-any.whl (8.3 kB)\n",
      "Downloading fonttools-4.57.0-cp39-cp39-macosx_10_9_universal2.whl (2.8 MB)\n",
      "\u001b[?25l   \u001b[90m━━━━━━━━━━━━━━━━━━━━━━━━━━━━━━━━━━━━━━━━\u001b[0m \u001b[32m0.0/2.8 MB\u001b[0m \u001b[31m?\u001b[0m eta \u001b[36m-:--:--\u001b[0mDownloading fonttools-4.57.0-cp39-cp39-macosx_10_9_universal2.whl (2.8 MB)\n",
      "\u001b[2K   \u001b[90m━━━━━━━━━━━━━━━━━━━━━━━━━━━━━━━━━━━━━━━━\u001b[0m \u001b[32m2.8/2.8 MB\u001b[0m \u001b[31m15.3 MB/s\u001b[0m eta \u001b[36m0:00:00\u001b[0m\n",
      "\u001b[2K   \u001b[90m━━━━━━━━━━━━━━━━━━━━━━━━━━━━━━━━━━━━━━━━\u001b[0m \u001b[32m2.8/2.8 MB\u001b[0m \u001b[31m15.3 MB/s\u001b[0m eta \u001b[36m0:00:00\u001b[0m\n",
      "\u001b[?25hDownloading importlib_resources-6.5.2-py3-none-any.whl (37 kB)\n",
      "Downloading importlib_resources-6.5.2-py3-none-any.whl (37 kB)\n",
      "Downloading kiwisolver-1.4.7-cp39-cp39-macosx_11_0_arm64.whl (64 kB)\n",
      "Downloading kiwisolver-1.4.7-cp39-cp39-macosx_11_0_arm64.whl (64 kB)\n",
      "Downloading pyparsing-3.2.3-py3-none-any.whl (111 kB)\n",
      "Downloading pyparsing-3.2.3-py3-none-any.whl (111 kB)\n",
      "Installing collected packages: pyparsing, kiwisolver, importlib-resources, fonttools, cycler, contourpy, matplotlib\n",
      "\u001b[?25lInstalling collected packages: pyparsing, kiwisolver, importlib-resources, fonttools, cycler, contourpy, matplotlib\n",
      "\u001b[2K   \u001b[90m━━━━━━━━━━━━━━━━━━━━━━━━━━━━━━━━━━━━━━━━\u001b[0m \u001b[32m7/7\u001b[0m [matplotlib]7\u001b[0m [matplotlib]\n",
      "\u001b[1A\u001b[2KSuccessfully installed contourpy-1.3.0 cycler-0.12.1 fonttools-4.57.0 importlib-resources-6.5.2 kiwisolver-1.4.7 matplotlib-3.9.4 pyparsing-3.2.3\n",
      "\u001b[2K   \u001b[90m━━━━━━━━━━━━━━━━━━━━━━━━━━━━━━━━━━━━━━━━\u001b[0m \u001b[32m7/7\u001b[0m [matplotlib]\n",
      "\u001b[1A\u001b[2KSuccessfully installed contourpy-1.3.0 cycler-0.12.1 fonttools-4.57.0 importlib-resources-6.5.2 kiwisolver-1.4.7 matplotlib-3.9.4 pyparsing-3.2.3\n",
      "Note: you may need to restart the kernel to use updated packages.\n",
      "Note: you may need to restart the kernel to use updated packages.\n"
     ]
    },
    {
     "name": "stderr",
     "output_type": "stream",
     "text": [
      "Matplotlib is building the font cache; this may take a moment.\n"
     ]
    },
    {
     "data": {
      "image/png": "[encoded data removed]",
      "text/plain": [
       "<Figure size 800x600 with 1 Axes>"
      ]
     },
     "metadata": {},
     "output_type": "display_data"
    }
   ],
   "source": [
    "# Calculate statistics about the title quality\n",
    "total_titles = len(recommendations)\n",
    "needs_improvement = sum(1 for rec in recommendations if rec['needs_improvement'])\n",
    "good_titles = total_titles - needs_improvement\n",
    "improvement_percentage = (needs_improvement / total_titles) * 100 if total_titles > 0 else 0\n",
    "\n",
    "print(f\"Total product titles analyzed: {total_titles}\")\n",
    "print(f\"Titles with 'Good' rating: {good_titles} ({100 - improvement_percentage:.1f}%)\")\n",
    "print(f\"Titles needing improvement: {needs_improvement} ({improvement_percentage:.1f}%)\")\n",
    "\n",
    "# Let's create a simple pie chart to visualize this\n",
    "%pip install matplotlib\n",
    "import matplotlib.pyplot as plt\n",
    "\n",
    "labels = ['Good Titles', 'Titles Needing Improvement']\n",
    "sizes = [good_titles, needs_improvement]\n",
    "colors = ['#5cb85c', '#d9534f']\n",
    "explode = (0, 0.1)  # explode the 2nd slice (Titles needing improvement)\n",
    "\n",
    "plt.figure(figsize=(8, 6))\n",
    "plt.pie(sizes, explode=explode, labels=labels, colors=colors, autopct='%1.1f%%',\n",
    "        shadow=True, startangle=90)\n",
    "plt.axis('equal')  # Equal aspect ratio ensures that pie is drawn as a circle\n",
    "plt.title('Product Title Quality Analysis')\n",
    "plt.show()"
   ]
  },
  {
   "cell_type": "markdown",
   "id": "7170e962",
   "metadata": {},
   "source": [
    "## Conclusion\n",
    "\n",
    "In this notebook, we've demonstrated how to use the Title Recommender to evaluate product titles and get recommendations for improvement. The Title Recommender can help identify titles that may not be effective at attracting buyers and provides specific suggestions for improvement.\n",
    "\n",
    "Next steps could include:\n",
    "- Analyzing a larger dataset of product titles\n",
    "- Comparing results from different LLM models\n",
    "- Implementing the suggested improvements and tracking the impact on product performance\n",
    "- Integrating this functionality into an automated product listing workflow"
   ]
  },
  {
   "cell_type": "markdown",
   "id": "939969d8",
   "metadata": {},
   "source": [
    "## Additional Experiments\n",
    "\n",
    "You can use the following cell to experiment with custom product titles."
   ]
  },
  {
   "cell_type": "code",
   "execution_count": 16,
   "id": "e15e8fb6",
   "metadata": {},
   "outputs": [
    {
     "name": "stdout",
     "output_type": "stream",
     "text": [
      "Title: 'Your product title here'\n",
      "Rating: Needs Improvement\n",
      "Reasoning: The product title 'Your product title here' is not effective as it does not provide any information about the product. It is generic and does not describe what the product is, its features, brand, or any other relevant details that would attract buyers.\n",
      "\n",
      "Suggested attributes to add:\n",
      "- product name\n",
      "- brand\n",
      "- key features\n",
      "- product type\n",
      "- size\n",
      "- color\n",
      "\n",
      "Improved title: 'Brand Name Women's Red Leather Jacket, Size Medium with Zipper Pockets'\n"
     ]
    }
   ],
   "source": [
    "# Test with your own product title\n",
    "custom_title = \"Your product title here\"  # Replace with your own title to test\n",
    "\n",
    "# Get recommendation\n",
    "custom_recommendation = recommender.get_recommendation(custom_title)\n",
    "\n",
    "# Display the recommendation\n",
    "print(f\"Title: '{custom_title}'\")\n",
    "print(f\"Rating: {custom_recommendation['evaluation']['rating']}\")\n",
    "print(f\"Reasoning: {custom_recommendation['evaluation']['reasoning']}\")\n",
    "print(f\"\\nSuggested attributes to add:\")\n",
    "for attr in custom_recommendation['suggested_attributes']:\n",
    "    print(f\"- {attr}\")\n",
    "\n",
    "if custom_recommendation['improved_title']:\n",
    "    print(f\"\\nImproved title: '{custom_recommendation['improved_title']}'\")"
   ]
  }
 ],
 "metadata": {
  "kernelspec": {
   "display_name": "stti-venv",
   "language": "python",
   "name": "python3"
  },
  "language_info": {
   "codemirror_mode": {
    "name": "ipython",
    "version": 3
   },
   "file_extension": ".py",
   "mimetype": "text/x-python",
   "name": "python",
   "nbconvert_exporter": "python",
   "pygments_lexer": "ipython3",
   "version": "3.9.6"
  }
 },
 "nbformat": 4,
 "nbformat_minor": 5
}
